{
 "cells": [
  {
   "cell_type": "markdown",
   "id": "188f71db",
   "metadata": {},
   "source": [
    " ### Practical 1: Find the ratios using fuzzy logic\n",
    " \n",
    " ### first install dependencies"
   ]
  },
  {
   "cell_type": "markdown",
   "id": "679cbd4c",
   "metadata": {},
   "source": [
    "### Practical 3 : Find ratios using fuzzy logic"
   ]
  },
  {
   "cell_type": "code",
   "execution_count": null,
   "id": "ac689320",
   "metadata": {},
   "outputs": [],
   "source": [
    "# pip install fuzzywuzzy\n",
    "# pip install python-Levenshtein\n",
    "# Python code showing all the ratios together,\n",
    "# make sure you have installed fuzzywuzzy module\n",
    "from fuzzywuzzy import fuzz\n",
    "from fuzzywuzzy import process\n",
    "s1 = \"I love fuzzysforfuzzys\"\n",
    "s2 = \"I am loving fuzzysforfuzzys\"\n",
    "print (\"FuzzyWuzzy Ratio:\", fuzz.ratio(s1, s2))\n",
    "print (\"FuzzyWuzzyPartialRatio: \", fuzz.partial_ratio(s1, s2))\n",
    "print (\"FuzzyWuzzyTokenSortRatio: \", fuzz.token_sort_ratio(s1, s2))\n",
    "print (\"FuzzyWuzzyTokenSetRatio: \", fuzz.token_set_ratio(s1, s2))\n",
    "print (\"FuzzyWuzzyWRatio: \", fuzz.WRatio(s1, s2),'\\n\\n')\n",
    "# for process library,\n",
    "query = 'fuzzys for fuzzys'\n",
    "choices = ['fuzzy for fuzzy', 'fuzzy fuzzy', 'g. for fuzzys']\n",
    "print (\"List of ratios: \")\n",
    "print (process.extract(query, choices), '\\n')\n",
    "print (\"Best among the above list: \",process.extractOne(query, choices))"
   ]
  },
  {
   "cell_type": "markdown",
   "id": "f2be7c9c",
   "metadata": {},
   "source": [
    "### Practical 4 : Solve Tipping Problem using fuzzy logic"
   ]
  },
  {
   "cell_type": "code",
   "execution_count": null,
   "id": "f53d9523",
   "metadata": {},
   "outputs": [],
   "source": [
    "import numpy as np\n",
    "import skfuzzy as fuzz\n",
    "from skfuzzy import control as ctrl\n",
    "# New Antecedent/Consequent objects hold universe variables and membership\n",
    "# functions\n",
    "quality = ctrl.Antecedent(np.arange(0, 11, 1), 'quality')\n",
    "service = ctrl.Antecedent(np.arange(0, 11, 1), 'service')\n",
    "tip = ctrl.Consequent(np.arange(0, 26, 1), 'tip')\n",
    "# Auto-membership function population is possible with .automf(3, 5, or 7)\n",
    "quality.automf(3)\n",
    "service.automf(3)\n",
    "# Custom membership functions can be built interactively with a familiar,\n",
    "# Pythonic API\n",
    "tip['low'] = fuzz.trimf(tip.universe, [0, 0, 13])\n",
    "tip['medium'] = fuzz.trimf(tip.universe, [0, 13, 25])\n",
    "tip['high'] = fuzz.trimf(tip.universe, [13, 25, 25])\n",
    "\"\"\"\n",
    "To help understand what the membership looks like, use the ``view`` methods.\n",
    "\"\"\"\n",
    "# You can see how these look with .view()\n",
    "quality['average'].view()\n",
    "\"\"\"\n",
    ".. image:: PLOT2RST.current_figure\n",
    "\"\"\"\n",
    "service.view()\n",
    "\"\"\"\n",
    ".. image:: PLOT2RST.current_figure\n",
    "\"\"\"\n",
    "tip.view()\n",
    "\"\"\"\n",
    ".. image:: PLOT2RST.current_figure\n",
    "\"\"\""
   ]
  },
  {
   "cell_type": "code",
   "execution_count": null,
   "id": "5e5ecc95",
   "metadata": {},
   "outputs": [],
   "source": []
  }
 ],
 "metadata": {
  "kernelspec": {
   "display_name": "Python 3 (ipykernel)",
   "language": "python",
   "name": "python3"
  },
  "language_info": {
   "codemirror_mode": {
    "name": "ipython",
    "version": 3
   },
   "file_extension": ".py",
   "mimetype": "text/x-python",
   "name": "python",
   "nbconvert_exporter": "python",
   "pygments_lexer": "ipython3",
   "version": "3.9.12"
  }
 },
 "nbformat": 4,
 "nbformat_minor": 5
}
